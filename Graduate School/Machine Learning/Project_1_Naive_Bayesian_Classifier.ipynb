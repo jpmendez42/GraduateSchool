{
  "cells": [
    {
      "cell_type": "code",
      "execution_count": null,
      "metadata": {
        "id": "-_21TggZfIS7"
      },
      "outputs": [],
      "source": [
        "#COSC 522 UTK\n",
        "#Project 1\n",
        "#Student Name: Jacob Mendez"
      ]
    },
    {
      "cell_type": "code",
      "execution_count": 50,
      "metadata": {
        "id": "iXuYzxtcyQm9"
      },
      "outputs": [],
      "source": []
    },
    {
      "cell_type": "code",
      "execution_count": null,
      "metadata": {
        "id": "bl9HO7O6yQzH"
      },
      "outputs": [],
      "source": [
        "#load in data\n",
        "import pandas as pd\n",
        "\n",
        "url = 'https://gist.github.com/rhema/3b4b729d98978b9020d85c9b9e7c9dd6/raw/e0831e96129b2a0af0c696efe132cb8503c1e631/NormalWaterFlyingPokemon.csv'\n",
        "all_data = pd.read_csv(url)"
      ]
    },
    {
      "cell_type": "code",
      "execution_count": 47,
      "metadata": {
        "colab": {
          "base_uri": "https://localhost:8080/"
        },
        "id": "kQZPvepLg8jZ",
        "outputId": "dd52fe0e-424a-49a7-e8bf-0fbe82cb1a29"
      },
      "outputs": [
        {
          "name": "stdout",
          "output_type": "stream",
          "text": [
            "           Name    HP Attack Defense    Type\n",
            "292  Butterfree  High    Low     Low  Flying\n",
            "293     Spearow   Low    Low     Low  Normal\n",
            "294    Delibird   Low    Low     Low  Flying\n",
            "295  Feraligatr   Mid    Mid     Mid   Water\n",
            "296    Bunnelby   Low    Low     Low  Normal\n",
            "297\n"
          ]
        }
      ],
      "source": [
        "print(all_data.tail())\n",
        "print(len(all_data))"
      ]
    },
    {
      "cell_type": "code",
      "execution_count": 20,
      "metadata": {
        "colab": {
          "base_uri": "https://localhost:8080/"
        },
        "id": "EKn6O1HPg-cG",
        "outputId": "29558d7f-333f-4273-ae19-fdd230df6fd3"
      },
      "outputs": [
        {
          "name": "stdout",
          "output_type": "stream",
          "text": [
            "22\n"
          ]
        }
      ],
      "source": [
        "train_data = all_data.iloc[:275,:]\n",
        "test_data = all_data.iloc[275:,:]\n",
        "print(len(test_data))"
      ]
    },
    {
      "cell_type": "code",
      "execution_count": 49,
      "metadata": {
        "id": "9nT4oKpEpmEf"
      },
      "outputs": [],
      "source": [
        "## Code for buildling the classifier\n",
        "## Train only with the \"train_data\""
      ]
    },
    {
      "cell_type": "code",
      "execution_count": 48,
      "metadata": {
        "id": "HBqbRbZYkz9k"
      },
      "outputs": [],
      "source": [
        "## Return probability and the class\n",
        "def predict(row):\n",
        "  return {\"score\":0,\"class\":\"TBD\"}#should be replaces with \"Normal\", \"Water\", or \"Flying\" "
      ]
    },
    {
      "cell_type": "code",
      "execution_count": 49,
      "metadata": {
        "id": "q5ew4y-hk0E_"
      },
      "outputs": [],
      "source": []
    },
    {
      "cell_type": "code",
      "execution_count": 45,
      "metadata": {
        "colab": {
          "base_uri": "https://localhost:8080/"
        },
        "id": "ruymUsGukR24",
        "outputId": "e9fb21fa-1307-4a7a-d980-fbaab5221b9d"
      },
      "outputs": [
        {
          "name": "stdout",
          "output_type": "stream",
          "text": [
            "Pidgeotto\n",
            "{'score': 0, 'class': 'TBD'}\n",
            "None None\n",
            "Zubat\n",
            "{'score': 0, 'class': 'TBD'}\n",
            "None None\n",
            "Igglybuff\n",
            "{'score': 0, 'class': 'TBD'}\n",
            "None None\n",
            "Watchog\n",
            "{'score': 0, 'class': 'TBD'}\n",
            "None None\n",
            "Pyroar\n",
            "{'score': 0, 'class': 'TBD'}\n",
            "None None\n",
            "Sawsbuck\n",
            "{'score': 0, 'class': 'TBD'}\n",
            "None None\n",
            "Suicune\n",
            "{'score': 0, 'class': 'TBD'}\n",
            "None None\n",
            "Zangoose\n",
            "{'score': 0, 'class': 'TBD'}\n",
            "None None\n",
            "Azumarill\n",
            "{'score': 0, 'class': 'TBD'}\n",
            "None None\n",
            "Squirtle\n",
            "{'score': 0, 'class': 'TBD'}\n",
            "None None\n",
            "Togetic\n",
            "{'score': 0, 'class': 'TBD'}\n",
            "None None\n",
            "Gliscor\n",
            "{'score': 0, 'class': 'TBD'}\n",
            "None None\n",
            "Noibat\n",
            "{'score': 0, 'class': 'TBD'}\n",
            "None None\n",
            "Skiploom\n",
            "{'score': 0, 'class': 'TBD'}\n",
            "None None\n",
            "Snorlax\n",
            "{'score': 0, 'class': 'TBD'}\n",
            "None None\n",
            "Simipour\n",
            "{'score': 0, 'class': 'TBD'}\n",
            "None None\n",
            "Chansey\n",
            "{'score': 0, 'class': 'TBD'}\n",
            "None None\n",
            "Butterfree\n",
            "{'score': 0, 'class': 'TBD'}\n",
            "None None\n",
            "Spearow\n",
            "{'score': 0, 'class': 'TBD'}\n",
            "None None\n",
            "Delibird\n",
            "{'score': 0, 'class': 'TBD'}\n",
            "None None\n",
            "Feraligatr\n",
            "{'score': 0, 'class': 'TBD'}\n",
            "None None\n",
            "Bunnelby\n",
            "{'score': 0, 'class': 'TBD'}\n",
            "None None\n"
          ]
        }
      ],
      "source": [
        "### Use this loop to provide \n",
        "for row in test_data.iterrows():\n",
        "  print(print(row[1][\"Name\"]), print(predict(row[1])))\n",
        "  # break"
      ]
    },
    {
      "cell_type": "code",
      "execution_count": null,
      "metadata": {
        "id": "ipjaodM0kCvp"
      },
      "outputs": [],
      "source": []
    }
  ],
  "metadata": {
    "colab": {
      "collapsed_sections": [],
      "name": "Project 1: Naive Bayesian Classifier.ipynb",
      "provenance": []
    },
    "kernelspec": {
      "display_name": "Python 3",
      "name": "python3"
    },
    "language_info": {
      "name": "python"
    }
  },
  "nbformat": 4,
  "nbformat_minor": 0
}
