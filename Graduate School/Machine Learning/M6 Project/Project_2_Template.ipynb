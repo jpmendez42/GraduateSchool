{
  "cells": [
    {
      "cell_type": "code",
      "execution_count": 1,
      "metadata": {
        "id": "zISpey7TiTXS"
      },
      "outputs": [],
      "source": [
        "#COSC 522 UTK\n",
        "#Project 2\n",
        "#Student Name: Jacob Mendez"
      ]
    },
    {
      "cell_type": "code",
      "execution_count": 2,
      "metadata": {
        "id": "YrOL_oKuipm8"
      },
      "outputs": [],
      "source": [
        "#load in data\n",
        "import matplotlib.pyplot as plt\n",
        "import numpy as np\n",
        "import pandas as pd\n",
        "import seaborn as sns\n",
        "from sklearn.linear_model import LinearRegression\n",
        "\n",
        "#Show fewer digits to improve readability\n",
        "np.set_printoptions(precision=3, suppress=True)\n"
      ]
    },
    {
      "cell_type": "code",
      "execution_count": 3,
      "metadata": {
        "colab": {
          "base_uri": "https://localhost:8080/"
        },
        "id": "t_3zS0HNig8l",
        "outputId": "2d2674ba-4bf5-4f8b-d058-b342922cf4c7"
      },
      "outputs": [
        {
          "name": "stdout",
          "output_type": "stream",
          "text": [
            "Index(['Unnamed: 0', 'Name', 'Brand', 'Model', 'Battery capacity (mAh)',\n",
            "       'Screen size (inches)', 'Touchscreen', 'Resolution x', 'Resolution y',\n",
            "       'Processor', 'RAM (MB)', 'Internal storage (GB)', 'Rear camera',\n",
            "       'Front camera', 'Operating system', 'Wi-Fi', 'Bluetooth', 'GPS',\n",
            "       'Number of SIMs', '3G', '4G/ LTE', 'Price'],\n",
            "      dtype='object')\n"
          ]
        }
      ],
      "source": [
        "dataset = pd.read_csv(\"ndtv_data_final.csv\")\n",
        "print(dataset.columns)"
      ]
    },
    {
      "cell_type": "code",
      "execution_count": 4,
      "metadata": {
        "colab": {
          "base_uri": "https://localhost:8080/",
          "height": 490
        },
        "id": "F7fp2mKwig_L",
        "outputId": "295685dd-89db-4c93-d5fc-8a9c63c6e79a"
      },
      "outputs": [
        {
          "data": {
            "text/html": [
              "<div>\n",
              "<style scoped>\n",
              "    .dataframe tbody tr th:only-of-type {\n",
              "        vertical-align: middle;\n",
              "    }\n",
              "\n",
              "    .dataframe tbody tr th {\n",
              "        vertical-align: top;\n",
              "    }\n",
              "\n",
              "    .dataframe thead th {\n",
              "        text-align: right;\n",
              "    }\n",
              "</style>\n",
              "<table border=\"1\" class=\"dataframe\">\n",
              "  <thead>\n",
              "    <tr style=\"text-align: right;\">\n",
              "      <th></th>\n",
              "      <th>Unnamed: 0</th>\n",
              "      <th>Name</th>\n",
              "      <th>Brand</th>\n",
              "      <th>Model</th>\n",
              "      <th>Battery capacity (mAh)</th>\n",
              "      <th>Screen size (inches)</th>\n",
              "      <th>Touchscreen</th>\n",
              "      <th>Resolution x</th>\n",
              "      <th>Resolution y</th>\n",
              "      <th>Processor</th>\n",
              "      <th>...</th>\n",
              "      <th>Rear camera</th>\n",
              "      <th>Front camera</th>\n",
              "      <th>Operating system</th>\n",
              "      <th>Wi-Fi</th>\n",
              "      <th>Bluetooth</th>\n",
              "      <th>GPS</th>\n",
              "      <th>Number of SIMs</th>\n",
              "      <th>3G</th>\n",
              "      <th>4G/ LTE</th>\n",
              "      <th>Price</th>\n",
              "    </tr>\n",
              "  </thead>\n",
              "  <tbody>\n",
              "    <tr>\n",
              "      <th>1354</th>\n",
              "      <td>1354</td>\n",
              "      <td>Intex Aqua A2</td>\n",
              "      <td>Intex</td>\n",
              "      <td>Aqua A2</td>\n",
              "      <td>1500</td>\n",
              "      <td>4.0</td>\n",
              "      <td>Yes</td>\n",
              "      <td>480</td>\n",
              "      <td>800</td>\n",
              "      <td>4</td>\n",
              "      <td>...</td>\n",
              "      <td>5.0</td>\n",
              "      <td>0.3</td>\n",
              "      <td>Android</td>\n",
              "      <td>Yes</td>\n",
              "      <td>Yes</td>\n",
              "      <td>Yes</td>\n",
              "      <td>2</td>\n",
              "      <td>Yes</td>\n",
              "      <td>No</td>\n",
              "      <td>2599</td>\n",
              "    </tr>\n",
              "    <tr>\n",
              "      <th>1355</th>\n",
              "      <td>1355</td>\n",
              "      <td>Videocon Infinium Z51 Nova+</td>\n",
              "      <td>Videocon</td>\n",
              "      <td>Infinium Z51 Nova+</td>\n",
              "      <td>2000</td>\n",
              "      <td>5.0</td>\n",
              "      <td>Yes</td>\n",
              "      <td>480</td>\n",
              "      <td>854</td>\n",
              "      <td>4</td>\n",
              "      <td>...</td>\n",
              "      <td>8.0</td>\n",
              "      <td>5.0</td>\n",
              "      <td>Android</td>\n",
              "      <td>Yes</td>\n",
              "      <td>Yes</td>\n",
              "      <td>Yes</td>\n",
              "      <td>2</td>\n",
              "      <td>Yes</td>\n",
              "      <td>No</td>\n",
              "      <td>2940</td>\n",
              "    </tr>\n",
              "    <tr>\n",
              "      <th>1356</th>\n",
              "      <td>1356</td>\n",
              "      <td>Intex Aqua Y4</td>\n",
              "      <td>Intex</td>\n",
              "      <td>Aqua Y4</td>\n",
              "      <td>1700</td>\n",
              "      <td>4.5</td>\n",
              "      <td>Yes</td>\n",
              "      <td>480</td>\n",
              "      <td>854</td>\n",
              "      <td>2</td>\n",
              "      <td>...</td>\n",
              "      <td>5.0</td>\n",
              "      <td>2.0</td>\n",
              "      <td>Android</td>\n",
              "      <td>Yes</td>\n",
              "      <td>Yes</td>\n",
              "      <td>No</td>\n",
              "      <td>2</td>\n",
              "      <td>Yes</td>\n",
              "      <td>No</td>\n",
              "      <td>2999</td>\n",
              "    </tr>\n",
              "    <tr>\n",
              "      <th>1357</th>\n",
              "      <td>1357</td>\n",
              "      <td>iBall Andi4 B20</td>\n",
              "      <td>iBall</td>\n",
              "      <td>Andi4 B20</td>\n",
              "      <td>1250</td>\n",
              "      <td>4.0</td>\n",
              "      <td>Yes</td>\n",
              "      <td>480</td>\n",
              "      <td>800</td>\n",
              "      <td>1</td>\n",
              "      <td>...</td>\n",
              "      <td>2.0</td>\n",
              "      <td>0.3</td>\n",
              "      <td>Android</td>\n",
              "      <td>Yes</td>\n",
              "      <td>Yes</td>\n",
              "      <td>Yes</td>\n",
              "      <td>2</td>\n",
              "      <td>Yes</td>\n",
              "      <td>No</td>\n",
              "      <td>2498</td>\n",
              "    </tr>\n",
              "    <tr>\n",
              "      <th>1358</th>\n",
              "      <td>1358</td>\n",
              "      <td>iBall Andi Avonte 5</td>\n",
              "      <td>iBall</td>\n",
              "      <td>Andi Avonte 5</td>\n",
              "      <td>2150</td>\n",
              "      <td>5.0</td>\n",
              "      <td>Yes</td>\n",
              "      <td>480</td>\n",
              "      <td>854</td>\n",
              "      <td>4</td>\n",
              "      <td>...</td>\n",
              "      <td>8.0</td>\n",
              "      <td>0.0</td>\n",
              "      <td>Android</td>\n",
              "      <td>Yes</td>\n",
              "      <td>Yes</td>\n",
              "      <td>Yes</td>\n",
              "      <td>2</td>\n",
              "      <td>Yes</td>\n",
              "      <td>No</td>\n",
              "      <td>3999</td>\n",
              "    </tr>\n",
              "  </tbody>\n",
              "</table>\n",
              "<p>5 rows × 22 columns</p>\n",
              "</div>"
            ],
            "text/plain": [
              "      Unnamed: 0                         Name     Brand               Model  \\\n",
              "1354        1354                Intex Aqua A2     Intex             Aqua A2   \n",
              "1355        1355  Videocon Infinium Z51 Nova+  Videocon  Infinium Z51 Nova+   \n",
              "1356        1356                Intex Aqua Y4     Intex             Aqua Y4   \n",
              "1357        1357              iBall Andi4 B20     iBall           Andi4 B20   \n",
              "1358        1358          iBall Andi Avonte 5     iBall       Andi Avonte 5   \n",
              "\n",
              "      Battery capacity (mAh)  Screen size (inches) Touchscreen  Resolution x  \\\n",
              "1354                    1500                   4.0         Yes           480   \n",
              "1355                    2000                   5.0         Yes           480   \n",
              "1356                    1700                   4.5         Yes           480   \n",
              "1357                    1250                   4.0         Yes           480   \n",
              "1358                    2150                   5.0         Yes           480   \n",
              "\n",
              "      Resolution y  Processor  ...  Rear camera  Front camera  \\\n",
              "1354           800          4  ...          5.0           0.3   \n",
              "1355           854          4  ...          8.0           5.0   \n",
              "1356           854          2  ...          5.0           2.0   \n",
              "1357           800          1  ...          2.0           0.3   \n",
              "1358           854          4  ...          8.0           0.0   \n",
              "\n",
              "      Operating system  Wi-Fi Bluetooth  GPS Number of SIMs   3G  4G/ LTE  \\\n",
              "1354           Android    Yes       Yes  Yes              2  Yes       No   \n",
              "1355           Android    Yes       Yes  Yes              2  Yes       No   \n",
              "1356           Android    Yes       Yes   No              2  Yes       No   \n",
              "1357           Android    Yes       Yes  Yes              2  Yes       No   \n",
              "1358           Android    Yes       Yes  Yes              2  Yes       No   \n",
              "\n",
              "     Price  \n",
              "1354  2599  \n",
              "1355  2940  \n",
              "1356  2999  \n",
              "1357  2498  \n",
              "1358  3999  \n",
              "\n",
              "[5 rows x 22 columns]"
            ]
          },
          "execution_count": 4,
          "metadata": {},
          "output_type": "execute_result"
        }
      ],
      "source": [
        "dataset.tail()"
      ]
    },
    {
      "cell_type": "code",
      "execution_count": 7,
      "metadata": {
        "id": "nhVrmzmrihBm"
      },
      "outputs": [],
      "source": [
        "### Your code goes here and below"
      ]
    },
    {
      "cell_type": "code",
      "execution_count": null,
      "metadata": {
        "id": "U-GpoDkZihEH"
      },
      "outputs": [],
      "source": []
    },
    {
      "cell_type": "code",
      "execution_count": null,
      "metadata": {
        "id": "S05rw04WihF6"
      },
      "outputs": [],
      "source": []
    }
  ],
  "metadata": {
    "colab": {
      "collapsed_sections": [],
      "provenance": [],
      "toc_visible": true
    },
    "kernelspec": {
      "display_name": ".venv",
      "language": "python",
      "name": "python3"
    },
    "language_info": {
      "codemirror_mode": {
        "name": "ipython",
        "version": 3
      },
      "file_extension": ".py",
      "mimetype": "text/x-python",
      "name": "python",
      "nbconvert_exporter": "python",
      "pygments_lexer": "ipython3",
      "version": "3.12.3"
    }
  },
  "nbformat": 4,
  "nbformat_minor": 0
}
