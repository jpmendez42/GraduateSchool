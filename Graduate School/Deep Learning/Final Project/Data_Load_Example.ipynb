{
 "cells": [
  {
   "cell_type": "markdown",
   "id": "1956a6ed",
   "metadata": {},
   "source": [
    "# Final Project Script for Loading Data"
   ]
  },
  {
   "cell_type": "markdown",
   "id": "96842fa2",
   "metadata": {},
   "source": [
    "### API for GBIF: https://pygbif.readthedocs.io/en/latest/index.html"
   ]
  },
  {
   "cell_type": "markdown",
   "id": "cb1c8bda",
   "metadata": {},
   "source": [
    "## Get imports for pygbif library and image loading"
   ]
  },
  {
   "cell_type": "code",
   "execution_count": 1,
   "id": "52383411",
   "metadata": {},
   "outputs": [],
   "source": [
    "from pygbif import species as species\n",
    "from pygbif import occurrences as occurrences\n",
    "from IPython.display import Image, display\n",
    "import requests"
   ]
  },
  {
   "cell_type": "markdown",
   "id": "82d65054",
   "metadata": {},
   "source": [
    "## For our usecase, we are looking at plants around Knoxville, so we are going to use Knoxville's coordinates"
   ]
  },
  {
   "cell_type": "code",
   "execution_count": 2,
   "id": "efe06ecc",
   "metadata": {},
   "outputs": [],
   "source": [
    "latitude = 35.964668\n",
    "longitude = -83.926453\n",
    "\n",
    "#We need to make the geometry a polygon, so we're going to make a square out of these coords.\n",
    "\n",
    "min_lat = latitude - 0.09\n",
    "max_lat = latitude + 0.09\n",
    "min_lon = longitude - 0.12\n",
    "max_lon = longitude + 0.12"
   ]
  },
  {
   "cell_type": "markdown",
   "id": "f34c43d6",
   "metadata": {},
   "source": [
    "## Search for occurrences within the box"
   ]
  },
  {
   "cell_type": "code",
   "execution_count": 3,
   "id": "4b9c23bf",
   "metadata": {},
   "outputs": [],
   "source": [
    "results = occurrences.search(\n",
    "    kingdomKey=6,\n",
    "    decimalLatitude=f\"{min_lat}, {max_lat}\",\n",
    "    decimalLongitude=f\"{min_lon},{max_lon}\",\n",
    "    facet='speciesKey',\n",
    "    limit = 0,\n",
    ")"
   ]
  },
  {
   "cell_type": "markdown",
   "id": "3f6cc5ee",
   "metadata": {},
   "source": [
    "## Generate results (DEPRECIATED)"
   ]
  },
  {
   "cell_type": "code",
   "execution_count": 4,
   "id": "14d341fb",
   "metadata": {},
   "outputs": [],
   "source": [
    "for record in results['results']:\n",
    "    count = 0\n",
    "    species_name = record.get('species') or record.get('scientificName')\n",
    "    print(f\"Species: {species_name}\")\n",
    "    if 'media' in record:\n",
    "        for media in record['media']:\n",
    "            url = media.get('identifier')\n",
    "            #try:\n",
    "            #    response = requests.get(url)\n",
    "            #    display(Image(data=response.content))\n",
    "            #except:\n",
    "                #print(\"Could not Print\")\n",
    "    #print(count)\n"
   ]
  },
  {
   "cell_type": "code",
   "execution_count": 5,
   "id": "ad62ac06",
   "metadata": {},
   "outputs": [],
   "source": [
    "species_keys = [int(f['name']) for f in results['facets'][0]['counts']] "
   ]
  },
  {
   "cell_type": "code",
   "execution_count": 6,
   "id": "fc6f6f30",
   "metadata": {},
   "outputs": [
    {
     "name": "stdout",
     "output_type": "stream",
     "text": [
      "SpeciesKey 7902463 has 619 images.\n"
     ]
    },
    {
     "data": {
      "text/html": [
       "<img src=\"https://inaturalist-open-data.s3.amazonaws.com/photos/461253020/original.jpg\"/>"
      ],
      "text/plain": [
       "<IPython.core.display.Image object>"
      ]
     },
     "metadata": {},
     "output_type": "display_data"
    },
    {
     "data": {
      "text/html": [
       "<img src=\"https://inaturalist-open-data.s3.amazonaws.com/photos/461253720/original.jpg\"/>"
      ],
      "text/plain": [
       "<IPython.core.display.Image object>"
      ]
     },
     "metadata": {},
     "output_type": "display_data"
    },
    {
     "data": {
      "text/html": [
       "<img src=\"https://inaturalist-open-data.s3.amazonaws.com/photos/461254609/original.jpg\"/>"
      ],
      "text/plain": [
       "<IPython.core.display.Image object>"
      ]
     },
     "metadata": {},
     "output_type": "display_data"
    },
    {
     "data": {
      "text/html": [
       "<img src=\"https://inaturalist-open-data.s3.amazonaws.com/photos/461309374/original.jpg\"/>"
      ],
      "text/plain": [
       "<IPython.core.display.Image object>"
      ]
     },
     "metadata": {},
     "output_type": "display_data"
    },
    {
     "data": {
      "text/html": [
       "<img src=\"https://inaturalist-open-data.s3.amazonaws.com/photos/461309022/original.jpg\"/>"
      ],
      "text/plain": [
       "<IPython.core.display.Image object>"
      ]
     },
     "metadata": {},
     "output_type": "display_data"
    }
   ],
   "source": [
    "images = {}\n",
    "\n",
    "for key in species_keys:\n",
    "    img_result = occurrences.search(\n",
    "        speciesKey = key,\n",
    "        mediatype='StillImage',\n",
    "        limit=300\n",
    "    )\n",
    "    urls = []\n",
    "    for rec in img_result['results']:\n",
    "        for m in rec.get('media', []):\n",
    "            if m.get('identifier'):\n",
    "                urls.append(m['identifier'])\n",
    "    images[key] = urls\n",
    "\n",
    "# Example: how many images for the first species?\n",
    "first = species_keys[0]\n",
    "print(f\"SpeciesKey {first} has {len(images[first])} images.\")\n",
    "for url in images[first][:5]:\n",
    "    display(Image(url=url))"
   ]
  }
 ],
 "metadata": {
  "kernelspec": {
   "display_name": ".venv",
   "language": "python",
   "name": "python3"
  },
  "language_info": {
   "codemirror_mode": {
    "name": "ipython",
    "version": 3
   },
   "file_extension": ".py",
   "mimetype": "text/x-python",
   "name": "python",
   "nbconvert_exporter": "python",
   "pygments_lexer": "ipython3",
   "version": "3.12.3"
  }
 },
 "nbformat": 4,
 "nbformat_minor": 5
}
