{
 "cells": [
  {
   "cell_type": "markdown",
   "id": "66160526-8d8e-4495-80c2-3c677947f19b",
   "metadata": {
    "id": "64Lv80jSgfet",
    "tags": []
   },
   "source": [
    "## **`assignment.M.2`** - Titanic"
   ]
  },
  {
   "cell_type": "markdown",
   "id": "83fbb160-a017-4587-80cd-5963eda1eced",
   "metadata": {
    "id": "XUoNyI0_gfe2"
   },
   "source": [
    "### **`Overview and Directions`**\n"
   ]
  },
  {
   "cell_type": "markdown",
   "id": "c7325500-5774-446b-8db2-a14cd95cd8ff",
   "metadata": {
    "id": "jZ2bdM0bgfe3"
   },
   "source": [
    "**`Overview`**  \n",
    "- The Titanic dataset builds confidence with machine learning essentials.  \n",
    "- Read the dataset's history and features in the course [reference.library.Mashup](https://github.com/cosc-526/home.page/blob/069c9488de24d712c642e0f014d37759fc99185d/reference.library.Mashup.data.mine.pdf).\n",
    "\n",
    "- Follow the analysis stages and tasks to end with predicted survival outcomes.  \n",
    "\n",
    "**`Data`**  \n",
    "- on course github you're provided 2 data sets for a total three files  \n",
    "- `A:`__ RAW - uncurated passenger data for analysis stages 1 and 2  \n",
    "- `B:`__ train/test - curated kaggle passenger data stages 3 to 5   \n",
    "\n",
    "**`Additional Resources`**\n",
    "https://davidburn.github.io/notebooks/titanic/Titanic/\n"
   ]
  },
  {
   "cell_type": "markdown",
   "id": "a40fe106-569e-4c52-b2d1-a34e173e5167",
   "metadata": {
    "id": "qPP2ThyCgfe3"
   },
   "source": [
    "### **`Stage 1: Data Preparation`**  \n",
    "The Titanic dataset has been around for a while, so  \n",
    "- `Q:` Should you trust how others curated it?  \n",
    "=> Why is the passenger split at 891 for training? Is that the best?  \n",
    "=> Are you confident in the preparation and curation?  \n",
    "\n",
    "- `A:` `It depends!`\n",
    "- Read a datasets data dictionary and discern who did the work  \n",
    "=> For instance, was a statistician involved?  \n",
    "\n",
    "Have all authentic questions and lines of inquiry been considered?  \n",
    "- The Titanic raw data set has uncurated `passengers name`  \n",
    "=> `Q:` Curious? Has anyone on Kaggle predicted survival based on the # of characters in a name?  \n",
    "=> `A:` Probably not! Attempt to observe and question all available data.  \n",
    "=> Learning: `discern nuances; know what's strange; and perform relentless discovery`\n",
    "``` \n",
    "Windelov, Mr. Einar\n",
    "Braund, Mr. Owen Harris\n",
    "``` "
   ]
  },
  {
   "cell_type": "markdown",
   "id": "33bc04b0-be2c-4336-92af-6828d5867d33",
   "metadata": {
    "id": "YP2yWftAyErC"
   },
   "source": [
    "#### **`Stage 1: Data Preparation`**  "
   ]
  },
  {
   "cell_type": "markdown",
   "id": "abafd38f-47c1-4e14-87c2-2d0ba47a6226",
   "metadata": {
    "id": "P0Vlb0dasRMb"
   },
   "source": [
    "`Tasks.Stage.1`  \n",
    "1.1 - import three datasets into dataframe names provided; drop cabin/ticket.  \n",
    "1.2 - identify missing values in a table.  \n",
    "1.3 - identify outliers in a table and.or graphic for age variable  \n",
    "=> use interquartile range  \n",
    "- - q1 = df_train['age'].quantile(0.25)    \n",
    "- - q3 = df_train['age'].quantile(0.75)  \n",
    "- - iqr = q3 - q1  \n",
    "1.4 - would you use mean substitution  for missing values?  \n",
    "=> compare age outliers to age without outliers  \n",
    "=> solution provides a box and whiskers but use whatever you like   \n",
    "==> plt.boxplot(combined_data, labels=['All Data', 'Outliers'], vert=False)  \n",
    "\n",
    "`Useful Resources`  \n",
    "- [pd.DataFrame.dropna](https://pandas.pydata.org/docs/reference/api/pandas.DataFrame.dropna.html#pandas-dataframe-dropna)  "
   ]
  },
  {
   "cell_type": "markdown",
   "id": "2e596fe1-d791-4a24-91ea-c82fcad2f3a0",
   "metadata": {
    "id": "ufUecavzrL_7"
   },
   "source": [
    "#### **`Task.1.expected.outcome`**  "
   ]
  },
  {
   "cell_type": "markdown",
   "id": "b71788c5-a6f1-4cb2-a3cb-6253177795b6",
   "metadata": {
    "id": "sTPlxHN-p4F1"
   },
   "source": [
    "```\n",
    "==> Data fields with null information:\n",
    "passengerId      0\n",
    "survived         0\n",
    "pclass           0\n",
    "sex              0\n",
    "age            177\n",
    "sibsp            0\n",
    "parch            0\n",
    "fare             0\n",
    "embarked         2\n",
    "dtype: int64\n",
    "----------------------------------------\n",
    "\n",
    "----------------------------------------\n",
    "Table of outlier values to assess:\n",
    "     passengerId  survived  pclass   sex   age  sibsp  parch     fare embarked\n",
    "33            34         0       2  male  66.0      0      0  10.5000        S\n",
    "54            55         0       1  male  65.0      0      1  61.9792        C\n",
    "96            97         0       1  male  71.0      0      0  34.6542        C\n",
    "116          117         0       3  male  70.5      0      0   7.7500        Q\n",
    "280          281         0       3  male  65.0      0      0   7.7500        Q\n",
    "456          457         0       1  male  65.0      0      0  26.5500        S\n",
    "493          494         0       1  male  71.0      0      0  49.5042        C\n",
    "630          631         1       1  male  80.0      0      0  30.0000        S\n",
    "672          673         0       2  male  70.0      0      0  10.5000        S\n",
    "745          746         0       1  male  70.0      1      1  71.0000        S\n",
    "851          852         0       3  male  74.0      0      0   7.7750        S\n",
    "----------------------------------------\n",
    "```\n",
    "-----------------------\n",
    "`Visual includes new normalized age value performed in Task.2`  \n",
    "- image shows how outliers can introduce age bias given most people around age 30  \n",
    "- this doesn't indicate you should or shouldn't exclude the values but illustrates why its important to methodically inspect the data  \n",
    "![outlier graphic](https://github.com/cosc-526/home.page/blob/graphics/g.M2.titanic.png?raw=true)"
   ]
  },
  {
   "cell_type": "markdown",
   "id": "6389c2b0-7ddf-4ea1-abcb-3ebc00434e71",
   "metadata": {
    "id": "aN4pQLaqteGl",
    "tags": []
   },
   "source": [
    "##### **`Tasks.Stage.1.Solution`**  "
   ]
  },
  {
   "cell_type": "code",
   "execution_count": 1,
   "id": "94a2d95f-b643-4d55-8a73-92ef0e85b8c2",
   "metadata": {
    "colab": {
     "base_uri": "https://localhost:8080/",
     "height": 1000
    },
    "id": "BCGstdnXgOlj",
    "outputId": "539b5f83-7d76-4672-e7df-8d672c4acbf6"
   },
   "outputs": [
    {
     "name": "stdout",
     "output_type": "stream",
     "text": [
      "==> Data fields with null information:\n",
      "----------------------------------------\n",
      "----------------------------------------\n",
      "Table of outlier values to assess:\n",
      "----------------------------------------\n"
     ]
    }
   ],
   "source": [
    "import seaborn as sns\n",
    "import pandas as pd\n",
    "import matplotlib.pyplot as plt\n",
    "from sklearn.preprocessing import StandardScaler\n",
    "\n",
    "#=>1.1 - import three datasets into dataframe names provided; drop cabin/ticket columns\n",
    "url_raw = \"https://github.com/cosc-526/home.page/raw/main/data.M.2.titanic.raw.data.xls\"\n",
    "url_train = \"https://raw.githubusercontent.com/cosc-526/home.page/main/data.M.2.titanic_train.csv\"\n",
    "url_test = \"https://raw.githubusercontent.com/cosc-526/home.page/main/data.M.2.titanic_test.csv\"\n",
    "df_raw = pd.read_excel(url_raw)\n",
    "df_train = pd.read_csv(url_train)\n",
    "df_test = pd.read_csv(url_test)\n",
    "\n",
    "\n",
    "# 1.2 - identify and sum the missing values per column in a table\n",
    "print(\"==> Data fields with null information:\")\n",
    "#print(YOURCODEHERE)\n",
    "print(\"----------------------------------------\")\n",
    "\n",
    "\n",
    "#=>1.3 - identify outliers in a table and.or graphic for age variable useing the interquartile range  \n",
    "outliers = df_train[(df_train['age'] > 15)]#REPLACE this first row value to be all of the outliers based on age's quantile range (.25 and .75)\n",
    "\n",
    "# # Plot missing values (alternatives OK)\n",
    "# plt.figure(figsize=(6, 2))\n",
    "# plt.bar(??,??)\n",
    "# plt.xticks(rotation=45)\n",
    "# plt.xlabel('Variable')\n",
    "# plt.ylabel('Count of Missing Values')\n",
    "# plt.title('Missing Values in Data')\n",
    "# plt.show()\n",
    "\n",
    "print(\"----------------------------------------\")\n",
    "print(\"Table of outlier values to assess:\")\n",
    "#print(YOURCODEHERE)\n",
    "print(\"----------------------------------------\")\n",
    "\n",
    "\n",
    "#1.4 - would you use mean substitution for missing values?\n",
    "#Overall Answer: YOURTEXT HERE\n",
    "\n",
    "#=> compare age outliers to age without outliers using a plot made with seaborn / sns\n",
    "\n",
    "#  Plot age data in a box and whiskers chart  (alternatives OK)\n",
    "# plt.figure(figsize=(6,3))\n",
    "# plt.boxplot(combined_data, labels=['All Data', 'Outliers'], vert=False)\n",
    "# plt.xlabel('Age')\n",
    "# plt.title('Age Distribution with an without Outliers removed')\n",
    "# plt.show()"
   ]
  },
  {
   "cell_type": "markdown",
   "id": "92b93836-440f-4e1e-9856-c036b507bae4",
   "metadata": {
    "id": "4e0SdAdOmk-j"
   },
   "source": [
    "#### **`Stage 2: Feature Extraction`**\n",
    "- `Feature Scaling:` Scale numerical features to ensure similar ranges  \n",
    "=> techniques like z-score normalization scaling or standardization.  \n",
    "- `Feature Selection:` what features contribute most to the target variable?  \n",
    "=> techniques like remove redundant features to improve performance and reduce overfitting.  \n",
    "\n",
    "`Tasks.Stage.2`   \n",
    "=> your response variable is `survival`  \n",
    "2.1 - read and bookmark scikitlearn [6.3 Preprocessing data](https://scikit-learn.org/stable/modules/preprocessing.html)  \n",
    "2.2 - perform `one-hot encoding` of categorical variable `sex`; display df header    \n",
    "2.3 - perform `standarscaler` for a new age variable in df_train    \n",
    "\n",
    "Given the resourcs provided thus far,  \n",
    "2.4 - `Q:` Would you perform supervised or unsupervised machine learning?  \n",
    "2.5 - `Q:` What algorithms would you choose to run?  \n",
    "\n",
    "`Useful resources`   \n",
    "- [sklearn.preprocessing.OneHotEncoder](https://scikit-learn.org/stable/modules/generated/sklearn.preprocessing.OneHotEncoder.html#sklearn-preprocessing-onehotencoder) \n",
    "- [sklearn.preprocessing.standardscaler](https://scikit-learn.org/stable/modules/generated/sklearn.preprocessing.StandardScaler.html#sklearn-preprocessing-standardscaler)  "
   ]
  },
  {
   "cell_type": "markdown",
   "id": "d93bba5f-10ec-4f33-847e-fcfea4cd1155",
   "metadata": {
    "id": "hSu2Ztc80NlC"
   },
   "source": [
    "##### **`Tasks.Stage.2.Solution`**  "
   ]
  },
  {
   "cell_type": "code",
   "execution_count": 2,
   "id": "1bd9f47b-0c41-4cfb-8e88-7e1571ac2f33",
   "metadata": {
    "colab": {
     "base_uri": "https://localhost:8080/",
     "height": 777
    },
    "id": "-5I8ujYWwIi5",
    "outputId": "194bae54-0884-44e9-df10-f960f043f296"
   },
   "outputs": [
    {
     "name": "stdout",
     "output_type": "stream",
     "text": [
      "   pclass  survived                                             name      age  \\\n",
      "0       1         1                    Allen, Miss. Elisabeth Walton  29.0000   \n",
      "1       1         1                   Allison, Master. Hudson Trevor   0.9167   \n",
      "2       1         0                     Allison, Miss. Helen Loraine   2.0000   \n",
      "3       1         0             Allison, Mr. Hudson Joshua Creighton  30.0000   \n",
      "4       1         0  Allison, Mrs. Hudson J C (Bessie Waldo Daniels)  25.0000   \n",
      "\n",
      "   sibsp  parch  ticket      fare    cabin embarked boat   body  \\\n",
      "0      0      0   24160  211.3375       B5        S    2    NaN   \n",
      "1      1      2  113781  151.5500  C22 C26        S   11    NaN   \n",
      "2      1      2  113781  151.5500  C22 C26        S  NaN    NaN   \n",
      "3      1      2  113781  151.5500  C22 C26        S  NaN  135.0   \n",
      "4      1      2  113781  151.5500  C22 C26        S  NaN    NaN   \n",
      "\n",
      "                         home.dest  sex_female  sex_male  \n",
      "0                     St Louis, MO           1         0  \n",
      "1  Montreal, PQ / Chesterville, ON           0         1  \n",
      "2  Montreal, PQ / Chesterville, ON           1         0  \n",
      "3  Montreal, PQ / Chesterville, ON           0         1  \n",
      "4  Montreal, PQ / Chesterville, ON           1         0  \n"
     ]
    },
    {
     "data": {
      "image/png": "[encoded data removed]",
      "text/plain": [
       "<Figure size 640x480 with 1 Axes>"
      ]
     },
     "metadata": {},
     "output_type": "display_data"
    }
   ],
   "source": [
    "#This code has been provided\n",
    "#=>2.1 - read and bookmark (https://scikit-learn.org/stable/modules/preprocessing.html)  \n",
    "df_encoded = pd.get_dummies(df_raw, columns=['sex'])\n",
    "print(df_encoded.head()) #2 new variables created\n",
    "\n",
    "import matplotlib.pyplot as plt\n",
    "df_encoded = pd.get_dummies(df_raw, columns=['sex'])\n",
    "counts = [df_encoded['sex_male'].sum(), df_encoded['sex_female'].sum()]\n",
    "plt.bar(['# male values', '# female values'], counts)\n",
    "plt.show()"
   ]
  },
  {
   "cell_type": "code",
   "execution_count": 3,
   "id": "813c50df-e91c-4864-996f-183e0b094cde",
   "metadata": {
    "colab": {
     "base_uri": "https://localhost:8080/",
     "height": 487
    },
    "id": "ZKfCq0dUo0pc",
    "outputId": "27d7b4d6-758a-41ed-c7f4-ddaa44a4aba4"
   },
   "outputs": [
    {
     "data": {
      "image/png": "[encoded data removed]",
      "text/plain": [
       "<Figure size 800x500 with 1 Axes>"
      ]
     },
     "metadata": {},
     "output_type": "display_data"
    }
   ],
   "source": [
    "#This code has been provided\n",
    "#=>2.3 - perform `standarscaler` for a new age variable   \n",
    "# Create DataFrame for all data (excluding outliers)\n",
    "df_train = df_train[~df_train['age'].isin(outliers['age'])]\n",
    "\n",
    "scaler = StandardScaler()\n",
    "all_data = df_raw\n",
    "all_data.loc[:, 'scaled_new_age'] = scaler.fit_transform(all_data[['age']].values.reshape(-1, 1))\n",
    "\n",
    "# Exclude missing values from 'age' variable and scaled new age\n",
    "age_data = all_data['age'].dropna()\n",
    "scaled_age_data = all_data['scaled_new_age'].dropna()\n",
    "\n",
    "# combine all age data\n",
    "combined_data = [age_data, outliers['age'], scaled_age_data]\n",
    "\n",
    "# Plot all data, outliers, and normalized values in the same graph\n",
    "plt.figure(figsize=(8, 5))\n",
    "plt.boxplot(combined_data, labels=['All Data', 'Outliers', 'Normalized Values'], vert=False)\n",
    "plt.xlabel('Age')\n",
    "plt.title('Age Distribution with Outliers and Normalized Values')\n",
    "plt.show()\n",
    "\n"
   ]
  },
  {
   "cell_type": "markdown",
   "id": "b162af70-29e8-4972-b1d3-fc8e15f3d673",
   "metadata": {
    "id": "L022R8D6nqZb"
   },
   "source": [
    "#### **`Stage 3: Machine Learning + Stage 4: Model Evaluation`**  \n",
    "- `Imputation` - either modify unrepaired data, drop it, or dig deeper  \n",
    "- `Data Split` Split the preprocessed dataset into train\\test to assess algorithmic effectiveness.  \n",
    "- `Train` using the preprocessed training data.  \n",
    "\n",
    "**`Stage.3.items`**  \n",
    "3.1 - \n",
    "`logistic regression` on a train \\ test of the raw data with \n",
    "- features = ['sex', 'age', 'fare', 'pclass']\n",
    "- X = df_train[features]\n",
    "- y = df_train['survived']\n",
    "\n",
    "**`Stage.4.items`**  \n",
    "4.1 Assess accuracy  \n",
    "4.2 Assess Cross validation  \n",
    "\n",
    "**`Stage.5.items`**  \n",
    "5.1 Assess confusion matrix  \n",
    "\n",
    "**`Tasks`**  \n",
    "- Task.3 - write a description confirming sequence of machine learning activities\n",
    "- Task.4 - write a description confirming understanding of evaluation activities  \n",
    "- Task.5 - write a description confirming understanding of visualization activities  "
   ]
  },
  {
   "cell_type": "code",
   "execution_count": 4,
   "id": "8628e9dd-bfa2-4621-9639-c3de56058fa9",
   "metadata": {
    "id": "qYU6Z5wx5U_O"
   },
   "outputs": [],
   "source": [
    "#Enter Answer.\n",
    "#Remember to read the code below to understand the code.\n",
    "\n",
    "#=> Task.3 - write a description confirming the 5 sequences of machine learning activities, with a short description of each\n",
    "\n",
    "#=> Task.4 - write a description confirming understanding of evaluation activities \n",
    "\n",
    "#=> Task.5 - write a description confirming understanding of visualization activities   \n"
   ]
  },
  {
   "cell_type": "code",
   "execution_count": 5,
   "id": "9eed0724-7338-4a1c-b906-fad29799b954",
   "metadata": {
    "colab": {
     "base_uri": "https://localhost:8080/"
    },
    "id": "x4kqzoxu1j3I",
    "outputId": "981abda0-5233-4bbf-ef6f-bcd1490a3752"
   },
   "outputs": [
    {
     "name": "stdout",
     "output_type": "stream",
     "text": [
      "Accuracy: 1.0\n",
      "Confusion Matrix:\n",
      "[[89 16]\n",
      " [20 54]]\n"
     ]
    }
   ],
   "source": [
    "#this code provided\n",
    "import pandas as pd\n",
    "from sklearn.linear_model import LogisticRegression\n",
    "from sklearn.model_selection import train_test_split\n",
    "from sklearn.impute import SimpleImputer\n",
    "from sklearn.metrics import accuracy_score\n",
    "from sklearn.metrics import confusion_matrix\n",
    "\n",
    "'''Stage.3.Tasks'''\n",
    "#=>3.1 perform a logistic regression train \\ test on the raw data with \n",
    "#=>- features = ['sex', 'age', 'fare', 'pclass']\n",
    "#=>- X = df_train[features]\n",
    "#=>- y = df_train['survived']\n",
    "\n",
    "# Load the Titanic dataset\n",
    "url_train = \"https://raw.githubusercontent.com/cosc-526/home.page/main/data.M.2.titanic_train.csv\"\n",
    "df_train = pd.read_csv(url_train)\n",
    "\n",
    "features = ['sex', 'age', 'fare', 'pclass'] # Select features \n",
    "X = df_train[features]                      # Prepare features\n",
    "y = df_train['survived']\n",
    "\n",
    "X_encoded = pd.get_dummies(X, drop_first=True) # one-hot encoding on categorical\n",
    "\n",
    "# Handle missing values \n",
    "imputer = SimpleImputer(strategy='mean')  ## imputing with the mean\n",
    "X_imputed = pd.DataFrame(imputer.fit_transform(X_encoded), columns=X_encoded.columns)\n",
    "\n",
    "# Split train/test\n",
    "X_train, X_test, y_train, y_test = train_test_split(X_imputed, y, test_size=0.2, random_state=42)\n",
    "X_imputed = pd.DataFrame(imputer.fit_transform(X_encoded), columns=X_encoded.columns)\n",
    "\n",
    "# Create and train the logistic regression model\n",
    "model = LogisticRegression()\n",
    "model.fit(X_train, y_train)\n",
    "\n",
    "# Make predictions on the test set\n",
    "y_pred = model.predict(X_test)\n",
    "\n",
    "''' \n",
    "'**`Stage.4.Tasks\n",
    "#=> 4.1 assess accuracy'''\n",
    "\n",
    "accuracy = accuracy_score(y_test, y_pred)\n",
    "print(\"Accuracy:\", round(accuracy,0))\n",
    "\n",
    "#=> 4.2 access Cross validation  \n",
    "confusion = confusion_matrix(y_test, y_pred)\n",
    "print(\"Confusion Matrix:\")\n",
    "print(confusion)\n"
   ]
  },
  {
   "cell_type": "markdown",
   "id": "e0cef933-0c7e-402e-ae0e-794d65c6682b",
   "metadata": {
    "id": "palnfXw0T_Lq"
   },
   "source": [
    "**`Stage 5: Visualization`**"
   ]
  },
  {
   "cell_type": "code",
   "execution_count": 7,
   "id": "f46aade3-a3a0-469c-8101-0dcdeb762f93",
   "metadata": {
    "colab": {
     "base_uri": "https://localhost:8080/",
     "height": 487
    },
    "id": "fpgXuyKy6SFT",
    "outputId": "ffe8908f-a902-430e-881f-d8e1638565ac"
   },
   "outputs": [
    {
     "data": {
      "image/png": "[encoded data removed]",
      "text/plain": [
       "<Figure size 640x480 with 2 Axes>"
      ]
     },
     "metadata": {},
     "output_type": "display_data"
    }
   ],
   "source": [
    "#this code provided\n",
    "import numpy as np\n",
    "import matplotlib.pyplot as plt\n",
    "\n",
    "# Define the confusion matrix\n",
    "confusion_matrix = np.array(confusion)\n",
    "\n",
    "# Define the class labels\n",
    "classes = ['Not Survived', 'Survived']\n",
    "\n",
    "# Plot the confusion matrix\n",
    "plt.imshow(confusion_matrix, interpolation='nearest', cmap=plt.cm.Blues)\n",
    "plt.title('Confusion Matrix')\n",
    "plt.colorbar()\n",
    "tick_marks = np.arange(len(classes))\n",
    "plt.xticks(tick_marks, classes)\n",
    "plt.yticks(tick_marks, classes)\n",
    "\n",
    "# Label the matrix cells\n",
    "thresh = confusion_matrix.max() / 2.\n",
    "for i, j in np.ndindex(confusion_matrix.shape):\n",
    "    plt.text(j, i, format(confusion_matrix[i, j], 'd'),\n",
    "             horizontalalignment=\"center\",\n",
    "             color=\"white\" if confusion_matrix[i, j] > thresh else \"black\")\n",
    "\n",
    "# Add axis labels\n",
    "plt.xlabel('Predicted label')\n",
    "plt.ylabel('True label')\n",
    "plt.tight_layout()\n",
    "\n",
    "# Show the plot\n",
    "plt.show()\n"
   ]
  }
 ],
 "metadata": {
  "kernelspec": {
   "display_name": "Python 3 (ipykernel)",
   "language": "python",
   "name": "python3"
  },
  "language_info": {
   "codemirror_mode": {
    "name": "ipython",
    "version": 3
   },
   "file_extension": ".py",
   "mimetype": "text/x-python",
   "name": "python",
   "nbconvert_exporter": "python",
   "pygments_lexer": "ipython3",
   "version": "3.10.9"
  }
 },
 "nbformat": 4,
 "nbformat_minor": 5
}
