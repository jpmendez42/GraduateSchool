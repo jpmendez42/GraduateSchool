{
 "cells": [
  {
   "cell_type": "markdown",
   "id": "0c4f7eee",
   "metadata": {},
   "source": [
    "# Module 6 Exercise: Finding a Dataset\n",
    "## Author: Jacob Mendez"
   ]
  },
  {
   "cell_type": "markdown",
   "id": "90f00bc0",
   "metadata": {},
   "source": [
    "## Dataset: https://www.kaggle.com/datasets/usdot/flight-delays/"
   ]
  },
  {
   "cell_type": "markdown",
   "id": "92580e9b",
   "metadata": {},
   "source": [
    "### Question 1: What websites, keywords, queries, or other strategies did you use?"
   ]
  },
  {
   "cell_type": "markdown",
   "id": "cfa0c5c5",
   "metadata": {},
   "source": [
    "#### Answer: I ultimately just searched on Kaggle and filtered the filesize to find some interesting, large datasets. I originally was looking at a credit card fraud dataset, but decided against it. I did however use the size of the file as a reference."
   ]
  },
  {
   "cell_type": "markdown",
   "id": "bd2216ab",
   "metadata": {},
   "source": [
    "### Question 2-3: Downloading the dataset for processing and loading it in."
   ]
  },
  {
   "cell_type": "code",
   "execution_count": 9,
   "id": "c4b8ac5a",
   "metadata": {},
   "outputs": [
    {
     "name": "stderr",
     "output_type": "stream",
     "text": [
      "/tmp/ipykernel_111998/3845667890.py:5: DtypeWarning: Columns (7,8) have mixed types. Specify dtype option on import or set low_memory=False.\n",
      "  df = pd.read_csv(\"flights.csv\")\n"
     ]
    },
    {
     "name": "stdout",
     "output_type": "stream",
     "text": [
      "   YEAR  MONTH  DAY  DAY_OF_WEEK AIRLINE  FLIGHT_NUMBER TAIL_NUMBER  \\\n",
      "0  2015      1    1            4      AS             98      N407AS   \n",
      "1  2015      1    1            4      AA           2336      N3KUAA   \n",
      "2  2015      1    1            4      US            840      N171US   \n",
      "3  2015      1    1            4      AA            258      N3HYAA   \n",
      "4  2015      1    1            4      AS            135      N527AS   \n",
      "\n",
      "  ORIGIN_AIRPORT DESTINATION_AIRPORT  SCHEDULED_DEPARTURE  ...  ARRIVAL_TIME  \\\n",
      "0            ANC                 SEA                    5  ...         408.0   \n",
      "1            LAX                 PBI                   10  ...         741.0   \n",
      "2            SFO                 CLT                   20  ...         811.0   \n",
      "3            LAX                 MIA                   20  ...         756.0   \n",
      "4            SEA                 ANC                   25  ...         259.0   \n",
      "\n",
      "   ARRIVAL_DELAY  DIVERTED  CANCELLED  CANCELLATION_REASON  AIR_SYSTEM_DELAY  \\\n",
      "0          -22.0         0          0                  NaN               NaN   \n",
      "1           -9.0         0          0                  NaN               NaN   \n",
      "2            5.0         0          0                  NaN               NaN   \n",
      "3           -9.0         0          0                  NaN               NaN   \n",
      "4          -21.0         0          0                  NaN               NaN   \n",
      "\n",
      "   SECURITY_DELAY  AIRLINE_DELAY  LATE_AIRCRAFT_DELAY  WEATHER_DELAY  \n",
      "0             NaN            NaN                  NaN            NaN  \n",
      "1             NaN            NaN                  NaN            NaN  \n",
      "2             NaN            NaN                  NaN            NaN  \n",
      "3             NaN            NaN                  NaN            NaN  \n",
      "4             NaN            NaN                  NaN            NaN  \n",
      "\n",
      "[5 rows x 31 columns]\n"
     ]
    }
   ],
   "source": [
    "import pandas as pd\n",
    "import matplotlib.pyplot as plt\n",
    "import seaborn as sns\n",
    "\n",
    "df = pd.read_csv(\"flights.csv\")\n",
    "\n",
    "print(df.head())"
   ]
  },
  {
   "cell_type": "markdown",
   "id": "bb2f3114",
   "metadata": {},
   "source": [
    "### Inspecting the data"
   ]
  },
  {
   "cell_type": "code",
   "execution_count": 10,
   "id": "b7615329",
   "metadata": {},
   "outputs": [
    {
     "name": "stdout",
     "output_type": "stream",
     "text": [
      "['YEAR', 'MONTH', 'DAY', 'DAY_OF_WEEK', 'AIRLINE', 'FLIGHT_NUMBER', 'TAIL_NUMBER', 'ORIGIN_AIRPORT', 'DESTINATION_AIRPORT', 'SCHEDULED_DEPARTURE', 'DEPARTURE_TIME', 'DEPARTURE_DELAY', 'TAXI_OUT', 'WHEELS_OFF', 'SCHEDULED_TIME', 'ELAPSED_TIME', 'AIR_TIME', 'DISTANCE', 'WHEELS_ON', 'TAXI_IN', 'SCHEDULED_ARRIVAL', 'ARRIVAL_TIME', 'ARRIVAL_DELAY', 'DIVERTED', 'CANCELLED', 'CANCELLATION_REASON', 'AIR_SYSTEM_DELAY', 'SECURITY_DELAY', 'AIRLINE_DELAY', 'LATE_AIRCRAFT_DELAY', 'WEATHER_DELAY']\n"
     ]
    }
   ],
   "source": [
    "print(df.columns.to_list())\n"
   ]
  },
  {
   "cell_type": "code",
   "execution_count": 11,
   "id": "f9d494e0",
   "metadata": {},
   "outputs": [],
   "source": [
    "# All data is from 2015 so the year column is useless to us.\n",
    "df.drop(columns=['YEAR'], inplace=True)"
   ]
  },
  {
   "cell_type": "markdown",
   "id": "a02f4752",
   "metadata": {},
   "source": [
    "### Question 4.1: Tables"
   ]
  },
  {
   "cell_type": "code",
   "execution_count": 12,
   "id": "59160e31",
   "metadata": {},
   "outputs": [
    {
     "data": {
      "text/plain": [
       "AIRLINE\n",
       "WN    1261855\n",
       "DL     875881\n",
       "AA     725984\n",
       "OO     588353\n",
       "EV     571977\n",
       "UA     515723\n",
       "MQ     294632\n",
       "B6     267048\n",
       "US     198715\n",
       "AS     172521\n",
       "Name: count, dtype: int64"
      ]
     },
     "execution_count": 12,
     "metadata": {},
     "output_type": "execute_result"
    }
   ],
   "source": [
    "# Best performing airlines\n",
    "\n",
    "df['AIRLINE'].value_counts().head(10)"
   ]
  },
  {
   "cell_type": "code",
   "execution_count": 13,
   "id": "8d51c643",
   "metadata": {},
   "outputs": [
    {
     "data": {
      "text/plain": [
       "ORIGIN_AIRPORT\n",
       "ATL    346836\n",
       "ORD    285884\n",
       "DFW    239551\n",
       "DEN    196055\n",
       "LAX    194673\n",
       "SFO    148008\n",
       "PHX    146815\n",
       "IAH    146622\n",
       "LAS    133181\n",
       "MSP    112117\n",
       "Name: count, dtype: int64"
      ]
     },
     "execution_count": 13,
     "metadata": {},
     "output_type": "execute_result"
    }
   ],
   "source": [
    "# Busiest Airports\n",
    "\n",
    "df['ORIGIN_AIRPORT'].value_counts().head(10)"
   ]
  },
  {
   "cell_type": "code",
   "execution_count": 14,
   "id": "bcb7f0ae",
   "metadata": {},
   "outputs": [
    {
     "data": {
      "text/plain": [
       "AIRLINE\n",
       "AS    -0.976563\n",
       "DL     0.186754\n",
       "HA     2.023093\n",
       "AA     3.451372\n",
       "US     3.706209\n",
       "WN     4.374964\n",
       "VX     4.737706\n",
       "UA     5.431594\n",
       "OO     5.845652\n",
       "MQ     6.457873\n",
       "EV     6.585379\n",
       "B6     6.677861\n",
       "F9    12.504706\n",
       "NK    14.471800\n",
       "Name: ARRIVAL_DELAY, dtype: float64"
      ]
     },
     "execution_count": 14,
     "metadata": {},
     "output_type": "execute_result"
    }
   ],
   "source": [
    "# Avg. Arrival Delay by Airline\n",
    "\n",
    "df.groupby('AIRLINE')['ARRIVAL_DELAY'].mean().sort_values()"
   ]
  },
  {
   "cell_type": "markdown",
   "id": "5aa2d517",
   "metadata": {},
   "source": [
    "### Question 4.2: Charts"
   ]
  },
  {
   "cell_type": "code",
   "execution_count": 17,
   "id": "c450ace4",
   "metadata": {},
   "outputs": [
    {
     "data": {
      "text/plain": [
       "<Axes: title={'center': 'Average Arrival Delay by Month'}, xlabel='MONTH', ylabel='Minutes'>"
      ]
     },
     "execution_count": 17,
     "metadata": {},
     "output_type": "execute_result"
    },
    {
     "data": {
      "image/png": "[encoded data removed]",
      "text/plain": [
       "<Figure size 640x480 with 1 Axes>"
      ]
     },
     "metadata": {},
     "output_type": "display_data"
    }
   ],
   "source": [
    "monthly_delay = df.groupby('MONTH')['ARRIVAL_DELAY'].mean()\n",
    "monthly_delay.plot(kind='bar', title='Average Arrival Delay by Month', ylabel='Minutes')"
   ]
  },
  {
   "cell_type": "markdown",
   "id": "f8b69bf4",
   "metadata": {},
   "source": [
    "### Question 5: Assumptions"
   ]
  },
  {
   "cell_type": "code",
   "execution_count": 18,
   "id": "23269d91",
   "metadata": {},
   "outputs": [
    {
     "data": {
      "text/plain": [
       "AIRLINE\n",
       "MQ    0.050996\n",
       "EV    0.026629\n",
       "US    0.020466\n",
       "NK    0.017073\n",
       "OO    0.016929\n",
       "B6    0.016012\n",
       "AA    0.015040\n",
       "UA    0.012745\n",
       "WN    0.012714\n",
       "VX    0.008626\n",
       "F9    0.006473\n",
       "DL    0.004366\n",
       "AS    0.003878\n",
       "HA    0.002242\n",
       "Name: CANCELLED, dtype: float64"
      ]
     },
     "execution_count": 18,
     "metadata": {},
     "output_type": "execute_result"
    }
   ],
   "source": [
    "# Assumption 1: Are flight delays correlated to airlines?\n",
    "\n",
    "df.groupby('AIRLINE')['CANCELLED'].mean().sort_values(ascending=False)"
   ]
  }
 ],
 "metadata": {
  "kernelspec": {
   "display_name": ".venv",
   "language": "python",
   "name": "python3"
  },
  "language_info": {
   "codemirror_mode": {
    "name": "ipython",
    "version": 3
   },
   "file_extension": ".py",
   "mimetype": "text/x-python",
   "name": "python",
   "nbconvert_exporter": "python",
   "pygments_lexer": "ipython3",
   "version": "3.12.3"
  }
 },
 "nbformat": 4,
 "nbformat_minor": 5
}
